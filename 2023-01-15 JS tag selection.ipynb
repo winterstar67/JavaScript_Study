{
 "cells": [
  {
   "cell_type": "markdown",
   "id": "f6cae377-d8bc-4b31-9d58-7a168a3eac84",
   "metadata": {},
   "source": [
    "# JS tag selection\n",
    "## 2023-01-15\n"
   ]
  },
  {
   "cell_type": "markdown",
   "id": "805e1f56-8669-42da-a8ae-cd3149728ec6",
   "metadata": {},
   "source": [
    "공부 출처: https://www.youtube.com/watch?v=5tqfbgfA1LY&list=PLuHgQVnccGMBB348PWRN0fREzYcYgFybf&index=12"
   ]
  },
  {
   "cell_type": "markdown",
   "id": "9b25b512-c770-4025-b84e-f4f7f2a185fd",
   "metadata": {},
   "source": [
    "실습 파일: 23_01_15_index.html"
   ]
  },
  {
   "cell_type": "markdown",
   "id": "a28a1824-58fe-4f67-8e11-213c861dcf7a",
   "metadata": {
    "tags": []
   },
   "source": [
    "### `-` 제어할 태그 선택하기"
   ]
  },
  {
   "cell_type": "markdown",
   "id": "2fb5aba4-442a-4d4f-920d-5aac2ec724db",
   "metadata": {},
   "source": [
    "night라는 태그를 선택하면, 색깔이 바뀌는 이유을 한 번 보자.\n",
    "\n",
    "이는, night를 클릭했을 때, body라는 태그가 style 속성이 생기면서 CSS가 지정하는 것을 통해, 디자인이 바뀔 수 있다.\n",
    "- https://youtu.be/5tqfbgfA1LY?list=PLuHgQVnccGMBB348PWRN0fREzYcYgFybf&t=31\n",
    "\n",
    "이걸 작동시키는 코드를 보자.  \n",
    "<\"input type=\"button\" value=\"night\" \">  \n",
    "<\"input type=\"button\" value=\"day\" \">  \n",
    "여기까지 하면 버튼이 생긴다.\n",
    "\n",
    "그럼, 이 버튼을 클릭했을 떄, 무언가 동작하게는 어떻게 할까? 클릭에 대한 이벤트인, onclick 속성을 사용한다.\n",
    "<\"input type=\"button\" value=\"night\" onclick=\"\" \">  \n",
    "<\"input type=\"button\" value=\"day\" onclick=\"\" \">  \n",
    "이제 onclick 안에, 자바스크립트를 작성하면 된다.\n",
    "\n",
    "우리가 하고자 하는 것은, 버튼을 클릭했을 때, body태그의 style속성을 동적으로, 혹은 상호작용적으로 넣으려 한다.\n",
    "- 먼저 JS 문법을 통해, 웹 브라우저에게 이 body태그를 선택하도록 해야한다.\n",
    "    - 저번 시간에 CSS선택자들을 봤었다.(태그 선택자, class 선택자, id 선택자.) 이를 기반으로 하면, document.querySelector('body') 이 document에서 querySelector는 CSS의 selector라는 의미이다. 여기서 body라는 태그를 선택한다는 의미이다. (만약 id를 하고싶다면 #id이름 이런식으로 한다.)   \n",
    "\n",
    "<br>\n",
    "\n",
    "- 이제 body 태그를 선택하는 것은 알았는데, 이 body 태그에 style이라는 속성을 JS로 어떻게 넣을지를 보자.\n",
    "    - document.querySelector('body')에서 .style을 붙여서 document.querySelector('body').style.backgroundColor='black';\n",
    "        - 원래 CSS에서 background color 지칭은 background-color였는데 JS에선 backgroundColor 인 차이를 알 수 있다.\n",
    "\n",
    "<br>\n",
    "\n",
    "- 다음은 폰트컬러를 바꾸자. 폰트 컬러의 경우는 그냥 color이다.\n",
    "    - document.querySelector('body').style.color='white'; \n",
    "\n",
    "<\"input type=\"button\" value=\"night\" onclick=\"  \n",
    "document.querySelector('body').style.backgroundColor='black';  \n",
    "document.querySelector('body').style.color='white'; \n",
    "\" \">  \n",
    "\n",
    "<\"input type=\"button\" value=\"day\" onclick=\"  \n",
    "document.querySelector('body').style.backgroundColor='white';  \n",
    "document.querySelector('body').style.color='black'; \n",
    "\" \">  \n"
   ]
  },
  {
   "cell_type": "code",
   "execution_count": null,
   "id": "66ac6812-8340-4211-89d3-cae4fb9a44fb",
   "metadata": {},
   "outputs": [],
   "source": []
  },
  {
   "cell_type": "markdown",
   "id": "6bd95dd7-ab7b-494c-86f5-98377dcc74f7",
   "metadata": {},
   "source": [
    "`TIP:` 실습하다가 본 것인데, \n",
    "\n",
    "<'input type=\"button\" value=\"night\" onclick=\"\n",
    "document.querySelector('body').style.backgroundColor='black';\n",
    "document.querySelector('body').style.color='white';\n",
    "\"'>\n",
    "\n",
    "<'input type=\"button\" value=\"day\" onclick=\"\n",
    "document.querySelector('body').style.backgroundColor='white';\n",
    "document.querySelector('body').style.color='black';\n",
    "\"'>\n",
    "\n",
    "처럼 속성 값을 감쌀 때는 '와 \"의 차이가 큰듯 하다. '는 작동을 안하고 \"로 바꿔야 작동을 하였다."
   ]
  },
  {
   "cell_type": "markdown",
   "id": "88f9cdd1-0fb3-427c-bacf-37d5fdfa3f67",
   "metadata": {},
   "source": []
  },
  {
   "cell_type": "markdown",
   "id": "7fdb4eb4-5ee0-4c9e-a380-2fc0f00d3c55",
   "metadata": {},
   "source": []
  },
  {
   "cell_type": "markdown",
   "id": "97d4f70b-477e-4518-8a33-7e6b330bb353",
   "metadata": {
    "tags": []
   },
   "source": [
    "### `-` 프로그램, 프로그래밍, 프로그래밍 언어"
   ]
  },
  {
   "cell_type": "markdown",
   "id": "d30a76ce-92e0-48af-a367-31b2be9bd6be",
   "metadata": {},
   "source": [
    "JS는 컴퓨터 언어이면서, 동시 컴퓨터 프로그래밍 언어이다.  \n",
    "HTML은 컴퓨터 프로그래밍 언어라고 하지는 않는다.\n",
    "\n",
    "차이가 뭘까?  \n",
    "먼저, 프로그램이라는 말의 어원이 무언가를 순서대로 작동시키는 것이다.  \n",
    "우리는 하나의 작업이 아닌, 순차적인 작업을 반복적으로 자주 사용하는 것에 대해 극복하기 위해, 컴퓨터 프로그래밍 언어라는 것을 만들었다. 시간의 순서에 따라 실행되어야 하는 기능을 프로그래밍 언어의 문법에 맞게, 글로 적어두는 방식을 고안한 것이다.  \n",
    "하지만, HTML의 경우는 웹페이지를 묘사하는 목적의 언어이기 때문에, 시간의 순서에 따라 무언가를 할 필요가 없다.\n",
    "- 시간의 순서에 따라 실행되는 기능을 갖고있지 않다.\n",
    "\n",
    "JS의 경우는 사용자와의 상호작용을 위해 만들어진 언어이고, 그렇게 하기 위해선 시간의 순서에 따라, 웹브라우저의 여러 기능이 실행되어야 하기 때문에 프로그래밍이라는 형태를 띄고 있고, 이런 점이 HTML과 JS의 차이를 만들어내는 특징이라고 생각한다 하심.\n",
    "\n",
    "\n",
    "\n"
   ]
  },
  {
   "cell_type": "markdown",
   "id": "07ce1cd9-a84a-4c66-841b-0760f919253f",
   "metadata": {},
   "source": []
  },
  {
   "cell_type": "markdown",
   "id": "9d367e5d-87a5-4c20-8925-7485f7598c46",
   "metadata": {},
   "source": []
  },
  {
   "cell_type": "markdown",
   "id": "63fab853-3938-477a-8469-2fe07b25778f",
   "metadata": {
    "tags": []
   },
   "source": [
    "### `-` 조건문 예고 "
   ]
  },
  {
   "cell_type": "markdown",
   "id": "593adbc8-040d-45e3-aaab-905cc11c354c",
   "metadata": {},
   "source": [
    "위에서 만든 night와 day라는 버튼이 있어서, 이 두 버튼을 일일이 왔다갔다 하면서 바꾸는 것이 귀찮다하자.  \n",
    "그냥 버튼을 하나 두고, night일 때 클릭하면 day로 바꿔주고, day일 때 클릭하면 night로 바꿔주는 버튼 하나만을 가지고싶다 하자.  \n",
    "- 이러한 것을 토글(toggle)이라고 한다. \n",
    "\n",
    "강사님께서, 프로그래밍을 해봤다면 JS문법 수업은 건너뛰고 JS기능을 이용해서 토글을 구현하는 쪽으로 건너뛰라고 하심."
   ]
  },
  {
   "cell_type": "markdown",
   "id": "ea711acb-ce33-4923-baa2-bf629a823c3c",
   "metadata": {},
   "source": []
  }
 ],
 "metadata": {
  "kernelspec": {
   "display_name": "Python 3 (ipykernel)",
   "language": "python",
   "name": "python3"
  },
  "language_info": {
   "codemirror_mode": {
    "name": "ipython",
    "version": 3
   },
   "file_extension": ".py",
   "mimetype": "text/x-python",
   "name": "python",
   "nbconvert_exporter": "python",
   "pygments_lexer": "ipython3",
   "version": "3.9.12"
  }
 },
 "nbformat": 4,
 "nbformat_minor": 5
}
