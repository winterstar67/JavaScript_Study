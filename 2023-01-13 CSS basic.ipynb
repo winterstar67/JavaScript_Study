{
 "cells": [
  {
   "cell_type": "markdown",
   "id": "f6cae377-d8bc-4b31-9d58-7a168a3eac84",
   "metadata": {},
   "source": [
    "# CSS style\n",
    "## 2023-01-13\n"
   ]
  },
  {
   "cell_type": "markdown",
   "id": "805e1f56-8669-42da-a8ae-cd3149728ec6",
   "metadata": {},
   "source": [
    "공부 출처: https://www.youtube.com/watch?v=HQgNj50Xt9g&list=PLuHgQVnccGMBB348PWRN0fREzYcYgFybf&index=10\n",
    "\n",
    "1월 9일 내용이 motivation이 되어서 CSS내용이 나오는 것."
   ]
  },
  {
   "cell_type": "markdown",
   "id": "a28a1824-58fe-4f67-8e11-213c861dcf7a",
   "metadata": {
    "tags": []
   },
   "source": [
    "### `-` CSS style"
   ]
  },
  {
   "cell_type": "markdown",
   "id": "4fadf7ec-3cb5-4845-8f1c-44c21bbd9c54",
   "metadata": {},
   "source": [
    "먼저 3.html 파일에서 h2 태그에, 디자인 쪽으로 바꾸고 싶다면, style 속성을 사용하면된다. style 속성에 여러 값들, 예: <\"h2 style = \"color:powderblue\"\">와 같은 값들을 넣으면서 보자.  \n",
    "(여기서 따옴표는 <>문법이 적용되지 않게 하기 위해서이므로, \"\"는 없다고 생각하고 예시의 코드를 보면 된다.)\n",
    "- style = \"color:powderblue\"는 폰트 색상이 powderblue라는 부드러운 색상으로 바뀐다. -> 이 color:powderblue라는 것이 CSS라고 하는, HTML과 완전히 다른 언어이다.\n",
    "    - HTML 문법인 style에 JS의 문법을 준다? ***\n",
    "    - color:powderblue는 CSS라는 언어의 문법 중에서 속성(property)라고 하는 것이다.\n",
    "- background-color:coral\n",
    "- 그 외의 다양한 기능들은 검색을 통해서 확인해볼 수 있다.\n",
    "\n",
    "이렇게 style속성에 CSS를 넣으면 디자인을 할 수 있고, 속성이라는 문법의 구조를 파악하면 이를 할 수 있다."
   ]
  },
  {
   "cell_type": "markdown",
   "id": "167130f2-56dc-4d15-9f1d-425f8b2a2091",
   "metadata": {},
   "source": []
  },
  {
   "cell_type": "markdown",
   "id": "fd395f04-e14d-4daf-94d7-e58dac11ad4a",
   "metadata": {
    "tags": []
   },
   "source": [
    "### `-` Style"
   ]
  },
  {
   "cell_type": "markdown",
   "id": "e2cd1c50-5386-4c27-9c5e-788e2c64c5ae",
   "metadata": {},
   "source": [
    "우리가 h2 안에 있는 본문 내용에 대해서 본다고 하자.  \n",
    "예를 들어,  <\"h2\"> abc gh kl abc<\"/h2\"> 와같이 h2안에 본문이 있다 할 때, abc만 진하게 표시하고싶다 하자.  \n",
    "여기서 h1태그로 감싸면 어떻게될까? -> 저 abc는 제목이 아니기 때문에 이렇게 넣으면 안된다.  \n",
    "저 abc를 CSS로 꾸며주고 싶은데, 이걸 하려면 어떠한 기능도 의미도 없는 태그가 필요하다.\n",
    "- div: 어떠한 의미도 기능도 없는 태그이다. 하지만 h2나 h1처럼 화면 전체를 쓰기 때문에, 줄바꿈이 되는 태그이다.\n",
    "- span: div와 마찬가지로 어떠한 의미도 기능도 없는 태그이다. 하지만 div와는 달리 전체를 쓰지 않아서 줄바꿈이 되지 않는 태그이다.\n",
    "\n",
    "이제 <\"span style = \"font-weight:bold;\"> 와 같이 style 속성을 사용할 수 있다!  \n",
    "\n",
    "자, 이제 <\"span style = \"font-weight:bold;\"> abc <\"/span\">로 감싸서 모든 abc를 볼드체로 만들었다 하자.  \n",
    "그런데 이렇게 하면 문제가 하나 있다.  \n",
    "예를들어, abc가 지금 위에서는 2개지만, 1억개가 있는 상황을 가정해보자. 여기서 볼드체 뿐만 아니라 밑줄, 글씨크기 키우기 와 같은 작업을 하려면, 1억개를 수정해야하는데 이건 쉽지 않은 작업이다.\n",
    "\n",
    "\n",
    "**이를 해결하기 위한 CSS의 좋은 기능이 있다.**  \n",
    "<\"head\">  \n",
    "    \n",
    "    <\"style media=\"screen\"\">\n",
    "    \n",
    "  \n",
    "    </\"style\">  \n",
    "<\"head\">      \n",
    "- 여기서 style라는 태그는 script 태그 처럼, 웹 브라우저에서, style로 감싸진 텍스트가 CSS다. 라는 것을 웹브라우저에게 알려주는 역할을 하는 구분자이다.\n",
    "\n",
    "이제,  <\"h2\"> abc gh kl abc<\"/h2\"> 를 다시보자.  \n",
    "이걸,  <\"h2\"> <\"span class=\"js\">abc<\"/span\"> gh kl <\"span class=\"js\">abc<\"/span\"><\"/h2\">  로 바꾼다음, 위의 style에 \"나는 이 웹페이지에 있는, class값이 js인 모든 태그에 대해서, font-weight를 bold로 하고싶다.\" 라고 하고싶으면,  \n",
    "<\"head\">  \n",
    "    \n",
    "    <\"style media=\"screen\"\">\n",
    "    \n",
    "        .js{\n",
    "            font-weight: bold;\n",
    "            color:red;\n",
    "         }\n",
    "  \n",
    "    </\"style\">  \n",
    "<\"head\">     \n",
    "- 이는 태그가 아니라 class 값이 js인 것을 가르키는 것이다.\n",
    "\n",
    "이렇게 하면 class값이 js인 모든 태그의 font weight를 bold로 바꾸고 폰트 컬러를 red로 바꿀 수 있다.\n",
    "\n",
    "이렇게 선택자를 통해서 여러 개의 태그를 선택하는 것을 살펴보았다.\n",
    "\n",
    "`-` 번외:\n",
    "\n",
    "<\"head\">  \n",
    "    \n",
    "    <\"style media=\"screen\"\">\n",
    "    \n",
    "        js{\n",
    "            font-weight: bold;\n",
    "         }\n",
    "  \n",
    "    </\"style\">  \n",
    "<\"head\">    \n",
    "이건 웹페이지에 있는 태그의 이름이 js인 것을 가르키는 것이다."
   ]
  },
  {
   "cell_type": "markdown",
   "id": "fe3fd8aa-f153-457b-8023-b70f689971df",
   "metadata": {},
   "source": []
  },
  {
   "cell_type": "markdown",
   "id": "ccfc2f82-3389-4269-b1f6-9fa42d4b26bd",
   "metadata": {
    "tags": []
   },
   "source": [
    "### `-` 선택자"
   ]
  },
  {
   "cell_type": "markdown",
   "id": "0005f428-e513-4532-9a99-f676d1926a89",
   "metadata": {},
   "source": [
    "이번에도 여전히 `<\"h2\"> <\"span class=\"js\">abc<\"/span\"> gh kl <\"span class=\"js\">abc<\"/span\"><\"/h2\">` 를 대상으로 진행을 한다.  \n",
    "\n",
    "\n",
    "<\"head\">  \n",
    "    \n",
    "    <\"style media=\"screen\"\">\n",
    "    \n",
    "        .js{\n",
    "            font-weight: bold;\n",
    "            color:red;\n",
    "         }\n",
    "  \n",
    "    </\"style\">  \n",
    "<\"head\">     \n",
    "\n",
    "이 상태에서 진행을 하는데, 이번엔 맨 처음의 abc만을 강조하고싶다 하자.  \n",
    "\n",
    "\n",
    "먼저, 첫 번째 abc에 id값을 주자. id값을 first로 지정해서 주면 코드는  \n",
    "`<\"h2\"> <\"span id=\"first\" class=\"js\">abc<\"/span\"> gh kl <\"span class=\"js\">abc<\"/span\"><\"/h2\">`  가 된다.\n",
    "\n",
    "<\"head\">  \n",
    "    \n",
    "    <\"style media=\"screen\"\">\n",
    "    \n",
    "        .js{\n",
    "            font-weight: bold;\n",
    "            color:red;\n",
    "         }\n",
    "         #first{\n",
    "             color:green;\n",
    "         }\n",
    "  \n",
    "    </\"style\">  \n",
    "<\"head\">     \n",
    "- 앞에서 .js와 같이 .을 붙이면 클래스를 지정하는 것을 보았다.  만약 id를 지정하고 싶으면, 이는 앞에 #을 붙이는 것으로 약속이 되어있다.\n",
    "- 정리하자면, `.`은 클래스를 의미하고, `#`은 id를 의미하는 것이다.\n",
    "\n",
    "`*궁금한 점:` 그럼 id가 first이면 green이고, class가 js이면 red이다. 만약 둘 다이면 무엇에 우선순위를 두고 색깔을 지정하는가?\n",
    "\n",
    "class와 id의 차이를 보자.  \n",
    "class는 grouping을 하는 것이다. 마치 학교에서 \"1반\", \"2반\"과 같은 역할이다.  \n",
    "하지만, id의 경우는 중복이 되어선 안된다. 개개의 객체가 유일하게 가지는 식별자이다.\n",
    "- 중복을 해도 동작은 하지만 이는 규칙 위반이라 하셨다.\n",
    "\n",
    "class 선택자가 id보다 더 포괄적이다.  \n",
    "id 선택자가 무언가를 더 정확히 타겟팅하는 것이다.\n",
    "\n",
    "그래서, 먼저 class를 통해 포괄적으로 효과를 준 다음에, id에 구체적으로 대상 지정을 해서 예외적으로 디자인을 바꿀 수 있다.  \n",
    "그래서 보통, 우선순위가 id가 우선이고 그 다음이 class이다. 적용을 할 때, class먼저 적용한 다음 id를 적용하는 방식으로 진행이 된다.\n",
    "\n",
    "\n",
    "**예제**  \n",
    " `<\"h2\"> <\"span class=\"js\">abc<\"/span\"> <\"span\">gh<\"/span\"> kl <\"span class=\"js\">abc<\"/span\"><\"/h2\">`\n",
    " \n",
    "인 상황에서 \n",
    "\n",
    "\n",
    "<\"head\">  \n",
    "    \n",
    "    <\"style media=\"screen\"\">\n",
    "    \n",
    "        .js{\n",
    "            font-weight: bold;\n",
    "            color:red;\n",
    "         }\n",
    "         #first{\n",
    "             color:green;\n",
    "         }\n",
    "         \n",
    "         span{\n",
    "             color:blue;\n",
    "         }\n",
    "  \n",
    "    </\"style\">  \n",
    "<\"head\">     \n",
    "\n",
    "를 주면 어떻게 될까?\n",
    "- 여기서 span은 span이라는 태그를 지칭해서 적용하는 것이다/\n",
    "\n",
    "일단 첫번째 abc는 id를 가져서, #first의 영향을 받아 색이 green이다.  \n",
    "gh와 kl의 경우는, id도 없고 class도 없어서 span 태그를 지칭하는 span의 영향을 받아 색이 blue이다.  \n",
    "마지막의 abc의 경우는 class만을 가져서, .js의 역향을 받아 색이 red가 된다."
   ]
  },
  {
   "cell_type": "markdown",
   "id": "23f1ad14-c0fb-475a-b57b-2232f1bf7e94",
   "metadata": {},
   "source": []
  },
  {
   "cell_type": "markdown",
   "id": "eee6db6b-874d-447f-b615-825d579341ff",
   "metadata": {},
   "source": []
  },
  {
   "cell_type": "markdown",
   "id": "7fdb4eb4-5ee0-4c9e-a380-2fc0f00d3c55",
   "metadata": {},
   "source": []
  },
  {
   "cell_type": "markdown",
   "id": "d30a76ce-92e0-48af-a367-31b2be9bd6be",
   "metadata": {},
   "source": []
  },
  {
   "cell_type": "markdown",
   "id": "593adbc8-040d-45e3-aaab-905cc11c354c",
   "metadata": {},
   "source": []
  },
  {
   "cell_type": "markdown",
   "id": "ea711acb-ce33-4923-baa2-bf629a823c3c",
   "metadata": {},
   "source": []
  }
 ],
 "metadata": {
  "kernelspec": {
   "display_name": "Python 3 (ipykernel)",
   "language": "python",
   "name": "python3"
  },
  "language_info": {
   "codemirror_mode": {
    "name": "ipython",
    "version": 3
   },
   "file_extension": ".py",
   "mimetype": "text/x-python",
   "name": "python",
   "nbconvert_exporter": "python",
   "pygments_lexer": "ipython3",
   "version": "3.9.12"
  }
 },
 "nbformat": 4,
 "nbformat_minor": 5
}
