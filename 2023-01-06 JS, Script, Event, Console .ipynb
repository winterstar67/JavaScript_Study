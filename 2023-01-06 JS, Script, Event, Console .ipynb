{
 "cells": [
  {
   "cell_type": "markdown",
   "id": "f6cae377-d8bc-4b31-9d58-7a168a3eac84",
   "metadata": {},
   "source": [
    "# JavaSCript\n",
    "## 2023-01-06\n"
   ]
  },
  {
   "cell_type": "markdown",
   "id": "805e1f56-8669-42da-a8ae-cd3149728ec6",
   "metadata": {},
   "source": [
    "공부 출처: https://www.youtube.com/watch?v=q4c69koKcOc&list=PLuHgQVnccGMBB348PWRN0fREzYcYgFybf&index=2"
   ]
  },
  {
   "cell_type": "markdown",
   "id": "a28a1824-58fe-4f67-8e11-213c861dcf7a",
   "metadata": {},
   "source": [
    "### `-` JavaScript"
   ]
  },
  {
   "cell_type": "markdown",
   "id": "03bde2f6-ad61-49c7-a68c-fb393a39899f",
   "metadata": {},
   "source": [
    "JavaScript의 중요한 측면은 사용자와 상호작용을 한다는 것이다.  \n",
    "   - 예: 야간모드, 낮 모드 기능으로 웹페이즈를 다크모드로 하거나 하얀색 배경으로 하는 것\n",
    "   \n",
    "웹브라우저는 한번 화면에 출력이 되면, 그 다음에는 자기 자신을 바꿀 능력이 없다.\n",
    "- 이걸 해주는 것이 JavaScript"
   ]
  },
  {
   "cell_type": "markdown",
   "id": "c1107646-08c6-4939-96ef-760971d9915a",
   "metadata": {},
   "source": [
    "먼저 브라우저에서 오른쪽 마우스 $\\rightarrow$ 검사버튼 $\\rightarrow$ Element를 눌러보자.\n",
    "\n",
    "여기서 Element는 **태그** 라는 뜻이다.  \n",
    "여기서 HTML을 구성하는 웹페이지의 태그들을 볼 수 있다.  \n",
    "여기서 다크 모드, 낮 모드를 누를 때마다 Element의 Body부분이 바뀌게 된다.  \n",
    "\n",
    "\n",
    "강사님 강의에서 나온 태그를 한번 보자.  \n",
    "<input type=\"button\" value=\"night\" onclick ~~>  \n",
    "\n",
    "- 먼저 input이라는 태그에 button이라는 속성을 주면 웹페이지에 버튼을 만들 수 있다.  \n",
    "\n",
    "- 그 다음 value=\"night\"를 하면 버튼에 적혀있는 글자가 night로 표시가 된다.  \n",
    "\n",
    "- 그리고 onclick이라는 속성의 값으로는 자바 스크립트가 와야한다고 한다. 이것은. onclick속성이 위치하고 있는 버튼을 클릭하면 자바스크립트 코드를 그 때 실행시킨다. 라고 HTML문서에 적혀있다고 하심.\n",
    "\n",
    "\n",
    "여기서는 코드보다는, 간략하게 어떤식으로 JavaScript를 이용하고 사용자와 상호작용 하는지를 보았음.\n"
   ]
  },
  {
   "cell_type": "markdown",
   "id": "844041d9-00a6-4e71-a111-fa8c0263b475",
   "metadata": {},
   "source": []
  },
  {
   "cell_type": "markdown",
   "id": "1e59b30a-3eb2-4fc9-86de-89fa6143be09",
   "metadata": {},
   "source": [
    "#### `-` Script 태그"
   ]
  },
  {
   "cell_type": "markdown",
   "id": "c2fc045a-573a-4709-a277-9801fd479721",
   "metadata": {},
   "source": [
    "기본적으로, JavScript는 HTML위에서 동작하는 언어이다. "
   ]
  },
  {
   "cell_type": "markdown",
   "id": "2aebebe9-1678-4f72-951f-756b7c1f7ff3",
   "metadata": {},
   "source": [
    "JavaScript를 넣는 방법은 우선, 웹브라우저에게 HTML 언어로, 지금부터 JavaScript가 시작됩니다. 라고 알려줘야 함.  \n",
    "\n",
    "**이 때 사용하는 것이 `script`라는 태그이다.**\n",
    "- 이 `script`라는 태그 안에는 JavaScript가 오도록 약속이 되어 있어서, 웹브라우저는 `script` 안쪽의 코드를 JavaScript로 해석함.\n",
    "\n"
   ]
  },
  {
   "cell_type": "markdown",
   "id": "6d111b0b-0ff7-44b3-b93a-f4a1fa797783",
   "metadata": {},
   "source": [
    "그러면, \n",
    "\n",
    "자바 스크립트로  \n",
    "`<script>  document.write('hello world')  </script>`\n",
    "\n",
    "이렇게 하는거랑\n",
    "\n",
    "\n",
    "HTML로  \n",
    "`hello world`\n",
    "\n",
    "\n",
    "이렇게 하는거랑 무엇이 다를까?\n",
    "\n",
    "결과는 같아 보이는데,\n",
    "\n",
    "그럼 이렇게 한번 해보자.\n",
    "\n",
    "<br>\n",
    "\n",
    "HTML로  \n",
    "`1+1`을 하면, 텍스트 출력으로 `1+1`이 나온다.\n",
    "\n",
    "반면에\n",
    "\n",
    "자바 스크립트로  \n",
    "`<script>  document.write(1+1)  </script>`\n",
    "\n",
    "이렇게 하면?  \n",
    "텍스트는 `2`가 출력이 된다. 자바 스크립트는 계산기처럼 동작할 수도 있는, 좀 더 동적인 기능을 한다.\n",
    "\n",
    "\n",
    "이번 시간에는, JavaScript사용을 위해서는 `script`태그라는 것을 사용한다. 정도를 알아두면 된다하심."
   ]
  },
  {
   "cell_type": "markdown",
   "id": "e6d0e537-5320-45d0-b9e2-ce1013b06708",
   "metadata": {},
   "source": []
  },
  {
   "cell_type": "markdown",
   "id": "000ec13e-bdef-4930-858f-8a5869fbf1e4",
   "metadata": {},
   "source": [
    "#### Event"
   ]
  },
  {
   "cell_type": "markdown",
   "id": "2421a896-0658-4e53-aa9e-902d7f952372",
   "metadata": {},
   "source": [
    "Event라는 것은 JavaScript (JS) 가 사용자와 상호작용하는데에, 핵심적인 역할을 한다 하심.  \n",
    "버튼을 만들어보자."
   ]
  },
  {
   "cell_type": "markdown",
   "id": "0ae1e7c1-c766-4d5a-9b47-5d5b8ea70a86",
   "metadata": {},
   "source": [
    "input이라는 태그에,\n",
    "- 버튼을 만들기 위해, 속성으로 type=\"button\"을 준다.\n",
    "- 버튼에 Hi라는 텍스트를 표시하기 위해, 속성으로 value=\"Hi\"를 준다.\n",
    "- 경고창을 띄우기 위해, 속성으로 onclick=\"alert('hi')\" 를 준다.\n",
    "\n",
    "여기서 onclick이라는 속성을 좀 더 보자.  \n",
    "onclick의 속성의 속성값으로는 반드시 JS가 와야한다고 HTML 설명서에 나와있음.  \n",
    "onclick 속성의 속성값은 웹브라우저가 기억하고 있다가 이 onclick속성이 위치하고 있는 태그에 사용자가 클릭했을 때, 기억하고있던 JS 코드를 JS 문법에 따라 웹 브라우저가 동작할 것이다. 라고 나와있음.\n",
    "\n",
    "위의 버튼 예시에서도, Hi 버튼을 누르면 JS코드인 alert('hi')라는 것을 기억하고 있다가, 누르면 그 때 실행해야지 하면서 기다리는 것.  \n",
    "\n",
    "이렇게 웹브라우저 위에서 일어나는 일들을 `Event`라고 한다.  \n",
    "어떤 이벤트가 일어났을 때, 어떠한 JS가 실행되도록 하는 것이 onclick 속성.  \n",
    "\n",
    "\n",
    "웹 브라우저에서 일어날 수 있는 event는 무엇이 있을까?\n",
    "- 클릭 (type=\"button\"). 같이 사용 가능한 속성:\n",
    "    - onclick=\"alert('hi')\"\n",
    "- 텍스트 입력 (type=\"text\"). 같이 사용 가능한 옵션:\n",
    "    - onchange=\"alert('changed')\" -> 텍스트를 바꾸고 마우스를 바깥쪽으로 빼면 onchange 이벤트를 실행함.\n",
    "    - onkeydown=\"alert('key down')\" -> 키를 아무거나 누르면 키를 눌렀다고 나옴.\n",
    "    \n",
    "이렇게 on으로 시작하는 onclick, onchange, onkeydown와 같은 속성들을 event라고 한다.  \n",
    "이러한 것들을 이용해서 사용자와 상호작용하는 코드를 만들 수 있음.  \n"
   ]
  },
  {
   "cell_type": "markdown",
   "id": "5eb4f9a2-fe87-41e0-b05c-90df132036d5",
   "metadata": {},
   "source": []
  },
  {
   "cell_type": "markdown",
   "id": "2b70df51-8dbd-4eb3-86f9-704826236534",
   "metadata": {},
   "source": [
    "#### `-` Console"
   ]
  },
  {
   "cell_type": "markdown",
   "id": "ec81f510-7e1d-455b-8898-4f84099cd9b3",
   "metadata": {},
   "source": [
    "웹페이지에서 오른쪽 마우스 $\\rightarrow$ 검사 를 하면 Elements 탭 옆에 Console이라는 것이 있다.  \n",
    "이걸 눌러보면, 깜빡깜빡 입력칸이 나온다.  \n",
    "\n",
    "Console을 이용하면 **파일을 만들지 않고도, JavaScript 코드를 즉석에서 실행할 수 있음**  \n",
    "- 예를 들어, 강사님께서는 Console창을 열어서 데이터 처리를 한다 하심.\n",
    "    - 우리가 보고있는 웹페이지에서 텍스트를 복사해서 Console에 붙인다음. 이 텍스트가 몇개의 문자로 이루어져있는지 알고싶다. 라고 한다면?\n",
    "    - 먼저 이 텍스트들을 따옴표('')로 묶어주자.\n",
    "    - 그리고 자바 스크립트에서는 이 문자열의 문자 개수를 알려주는 명령어가 있는데 바로 `length`이다.  length는 다음과 같이 사용한다.  `'텍스트들'.length`\n",
    "    - 그리고 이걸 alert창으로 띄우려면 `alert('텍스트들'.length)` 로 하면 된다.\n",
    "    "
   ]
  },
  {
   "cell_type": "markdown",
   "id": "5dea24fe-2645-4156-be6c-8c6bd863c233",
   "metadata": {},
   "source": [
    "`-` 좀 더 실용적인 것:  \n",
    "이 콘솔에서 실행시키는 JS는 우리가 보고있는 웹페이지 안에서 삽입되어 있는 JS처럼 동작한다.  \n",
    "- **즉, 우리가 Console창에서 실행시키는 JS는 이 웹페이지를 대상으로 실행하게 된다.**\n",
    "\n",
    "관련 예시: https://youtu.be/-VKIqaEdDVU?list=PLuHgQVnccGMBB348PWRN0fREzYcYgFybf&t=362\n",
    "\n",
    "`Tip: F12를 눌러서 나온 Elements 창에서 ESC를 누르면 콘솔창이 열리고 닫히고 기능을 함.`**"
   ]
  },
  {
   "cell_type": "markdown",
   "id": "a085d429-72a0-4305-b49f-f98db2626c3c",
   "metadata": {},
   "source": []
  },
  {
   "cell_type": "markdown",
   "id": "cf41c06c-b238-418a-98e9-8236d79d434e",
   "metadata": {},
   "source": [
    "### `-` 데이터 타입 - 문자열과 숫자"
   ]
  },
  {
   "cell_type": "markdown",
   "id": "2a4b8ea0-3dfd-4521-baf6-87ac41343ba9",
   "metadata": {},
   "source": [
    "먼저 JS에는 어떤 데이터 타입들이 존재하는지 보자.  \n",
    "여러가지가 있지만 여기선 두 개만 보도록 하자.\n",
    "- Number(숫자)\n",
    "- String(문자열)\n",
    "\n",
    "여기서의 실습은 웹페이지에서 F12 $\\rightarrow$ Console창을 열어서 해보자.\n",
    "\n",
    "이제 숫자를 한 번 표현해보자.\n",
    "- alert(1);을 하면? -> 화면에 숫자 1이 표시된다.\n",
    "- alert(1+1);을 하면? -> 2가 출력된다.\n",
    "    - 그런데 alert를 일일이 타이핑하는 것도 귀찮고, 경고창이 나올때마다 닫는 것도 번거롭다. -> 그냥 1+1만 입력해도 된다.\n",
    "- + 이외에도 -, *, / 를 사용할 수 있다.\n",
    "\n",
    "\n",
    "이번엔 문자를 한 번 보자.\n",
    "- \"Hello world\"와 같이 따옴표로 시작해서, 따옴표로 끝나면 된다.\n",
    "- 문자열의 개수를 알고싶다면? \"Hello world\".length를 하면 된다.\n",
    "    - 이렇게 length와 같은 것들을 **Properties**라고 부른다. (아직 이것이 무엇인지 알지 않아도 된다 하신다.)\n",
    "- 문자들을 모두 대문자로 바꾸고 싶다면? \"hello world\".toUpperCase()\n",
    "- 문자열 내에서, 문자의 위치를 알고싶다면? \"hello world\".indexOf('o')\n",
    "    - `(JS에서도 파이썬과 같이 인덱스 시작으로 0부터 하는듯 하다.)`\n",
    "- 문자열 내에서 공백을 없애고 싶다면, \"      hello      \".trim()\n",
    "\n",
    "- 문자열 간의 덧셈은 문자열을 잇는 역할로 보면 될듯하다.\n",
    "\n",
    "`(데이터 표현에 관해서는 자세히 안봐도 될듯 하다. 파이썬에서 사용하던대로 사용하면 될듯 하다.)`"
   ]
  },
  {
   "cell_type": "markdown",
   "id": "ed27134e-c5f2-4552-a86f-fb986f0e9ed1",
   "metadata": {},
   "source": [
    "`TIP`: 실행을 유보하고싶을 때는 Shift+Enter를 누른다."
   ]
  },
  {
   "cell_type": "markdown",
   "id": "6a433bec-7b03-47bf-80b2-dad7df0854c5",
   "metadata": {},
   "source": []
  },
  {
   "cell_type": "markdown",
   "id": "144960c7-eef4-4c8e-a822-5561c0add630",
   "metadata": {},
   "source": []
  },
  {
   "cell_type": "markdown",
   "id": "214a0cfc-0c6b-4b04-a210-70575e71ab6e",
   "metadata": {},
   "source": []
  },
  {
   "cell_type": "markdown",
   "id": "36554a21-4261-4179-bc15-314fbc1145b2",
   "metadata": {},
   "source": []
  },
  {
   "cell_type": "markdown",
   "id": "4af833af-c9ee-4674-8083-570f5948ab90",
   "metadata": {},
   "source": []
  }
 ],
 "metadata": {
  "kernelspec": {
   "display_name": "Python 3 (ipykernel)",
   "language": "python",
   "name": "python3"
  },
  "language_info": {
   "codemirror_mode": {
    "name": "ipython",
    "version": 3
   },
   "file_extension": ".py",
   "mimetype": "text/x-python",
   "name": "python",
   "nbconvert_exporter": "python",
   "pygments_lexer": "ipython3",
   "version": "3.9.12"
  }
 },
 "nbformat": 4,
 "nbformat_minor": 5
}
