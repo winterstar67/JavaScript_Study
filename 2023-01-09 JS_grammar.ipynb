{
 "cells": [
  {
   "cell_type": "markdown",
   "id": "f6cae377-d8bc-4b31-9d58-7a168a3eac84",
   "metadata": {},
   "source": [
    "# JavaSCript\n",
    "## 2023-01-09\n"
   ]
  },
  {
   "cell_type": "markdown",
   "id": "805e1f56-8669-42da-a8ae-cd3149728ec6",
   "metadata": {},
   "source": [
    "공부 출처: https://www.youtube.com/watch?v=absJhWQAS40&list=PLuHgQVnccGMBB348PWRN0fREzYcYgFybf&index=7"
   ]
  },
  {
   "cell_type": "markdown",
   "id": "a28a1824-58fe-4f67-8e11-213c861dcf7a",
   "metadata": {},
   "source": [
    "### `-` 변수와 대입연산자"
   ]
  },
  {
   "cell_type": "markdown",
   "id": "ed27134e-c5f2-4552-a86f-fb986f0e9ed1",
   "metadata": {},
   "source": [
    "실습 환경: F12 $\\rightarrow$ Console 창.\n",
    "\n",
    "`*` 변수라는 것은 파이썬에서 사용하던 것과 비슷하게 보인다. 하여, 이번 시간은 JS에서의 변수사용 예시만 본다.\n",
    "\n",
    "\n",
    "alert(\"ABCDEFGHIJKLMNOPCRSTUVWegoingXYZABCDEFGHIJKLMNOPCRSTUVWXYZABCDEFGHIJKLMNOPCRSTUVWXYZABCDEFGHIJKLMNOPCRSTUVWXYgoingZABCDEFGHIJKLMNOPCRSTUVWXYZABCDEFGgoingHIJKLMNOPCRSTUVWXYZ\")\n",
    "\n",
    "\n",
    "var name = 'egoing'; (shift+enter)  \n",
    "alert(\"ABCDEFGHIJKLMNOPCRSTUVW\"+name+\"XYZABCDEFGHIJKLMNOPCRSTUVWXYZABCDEFGHIJKLMNOPCRSTUVWXYZABCDEFGHIJKLMNOPCRSTUVWXY\"+name+\"ZABCDEFGHIJKLMNOPCRSTUVWXYZABCDEFG\"+name+\"HIJKLMNOPCRSTUVWXYZ\")\n",
    "\n",
    "중간중간에 egoing을 첫번째 예시처럼 넣으면 나중에 변경하기 힘듬. 하지만 두번째 예시처럼 하면, name파트만 바꾸어서 변경이 쉽다.\n",
    "- 변수 사용을 예시"
   ]
  },
  {
   "cell_type": "markdown",
   "id": "6a433bec-7b03-47bf-80b2-dad7df0854c5",
   "metadata": {},
   "source": []
  },
  {
   "cell_type": "markdown",
   "id": "144960c7-eef4-4c8e-a822-5561c0add630",
   "metadata": {},
   "source": [
    "### `-` 웹 브라우저 제어\n",
    "- https://www.youtube.com/watch?v=S62m_ddSls4&list=PLuHgQVnccGMBB348PWRN0fREzYcYgFybf&index=8"
   ]
  },
  {
   "cell_type": "markdown",
   "id": "214a0cfc-0c6b-4b04-a210-70575e71ab6e",
   "metadata": {},
   "source": [
    "여기서부터는 JS를 통해서 할 수 있는 일 중의 하나인 웹브라우저를 제어하는 방법에 대해 보도록 한다.  \n",
    "\n",
    "여기서 우리가 하고싶은 일이, night 버튼을 누르면 배경을 검은색으로 바꾸고싶은 것이라 하자.  \n",
    "\n",
    "먼저, body라는 것이 웹페이지 전체를 감싸는 큰 태그다.  \n",
    "이 태그에 style이라는 태그를 써서, 이것의 속성값으로 CSS라는 언어가 오도록 약속되어있다.  \n",
    "- 이 언어의 역할은 디자인이다.\n",
    "\n",
    "그래서 body style=\"background-color:black;color:white\" 이라는 태그를 주면 웹이 검은색으로 변하고, 글씨는 흰색이 된다.\n",
    "\n",
    "여기서 주목할 부분은, 우리가 night라는 버튼을 클릭했을 때 body 태그의 style속성이 바뀔 수 있다면, 우리가 하고자 하는 것을 할 수 있을 것이다.\n",
    "- 그런데, HTML은 우리가 코드를 작성해서, 한 번 화면에 표시되면, 자기를 바꿀 능력이 없는 정적인 언어이다.\n",
    "\n",
    "**그런데 JS를 이용하면 버튼클릭을 통해서, body태그를 바꿀 수 있다.**\n",
    "\n",
    "이걸 하기위해 필요한 부품들이 있다.  \n",
    "1. 먼저 위에서 보았던 style에 들어가는 속성의 값은 CSS이다. \n",
    "    - 이 CSS에 대해서 자세히 알 필요는 없지만 어느정도는 알 필요가 있다.\n",
    "    \n",
    "2. body 태그에 style 속성을 \"background-color:black;color:white\"와 같이 주려면, 우리가 이 속성을 주고자 하는 태그가 body태그라는 것을 웹 브라우저에게 알려주는 방법을 JS 문법으로 어떻게 해야하는지를 알아야 한다.\n",
    "\n",
    "여기서 두가지 중요한 주제가 나온다.\n",
    "1. CSS의 가장 본질적이고 중요한 문법을 볼 것이다. \n",
    "2. JS를 이용해서 우리가 제어하고자 하는 태그를 선택하는 방법을 볼 것이다."
   ]
  },
  {
   "cell_type": "markdown",
   "id": "36554a21-4261-4179-bc15-314fbc1145b2",
   "metadata": {},
   "source": []
  },
  {
   "cell_type": "markdown",
   "id": "4af833af-c9ee-4674-8083-570f5948ab90",
   "metadata": {},
   "source": [
    "Ongoing  \n",
    "https://www.youtube.com/watch?v=HQgNj50Xt9g&list=PLuHgQVnccGMBB348PWRN0fREzYcYgFybf&index=9 부터 다시 진행필요"
   ]
  }
 ],
 "metadata": {
  "kernelspec": {
   "display_name": "Python 3 (ipykernel)",
   "language": "python",
   "name": "python3"
  },
  "language_info": {
   "codemirror_mode": {
    "name": "ipython",
    "version": 3
   },
   "file_extension": ".py",
   "mimetype": "text/x-python",
   "name": "python",
   "nbconvert_exporter": "python",
   "pygments_lexer": "ipython3",
   "version": "3.9.12"
  }
 },
 "nbformat": 4,
 "nbformat_minor": 5
}
